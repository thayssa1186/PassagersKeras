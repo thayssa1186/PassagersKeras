{
  "nbformat": 4,
  "nbformat_minor": 0,
  "metadata": {
    "colab": {
      "name": "LSTMPassagerKeras.ipynb",
      "version": "0.3.2",
      "provenance": [],
      "collapsed_sections": [],
      "include_colab_link": true
    },
    "kernelspec": {
      "name": "python3",
      "display_name": "Python 3"
    }
  },
  "cells": [
    {
      "cell_type": "markdown",
      "metadata": {
        "id": "view-in-github",
        "colab_type": "text"
      },
      "source": [
        "[View in Colaboratory](https://colab.research.google.com/github/thayssa1186/PassagersKeras/blob/master/LSTMPassagerKeras.ipynb)"
      ]
    },
    {
      "metadata": {
        "id": "5dr6yQLFBV88",
        "colab_type": "code",
        "colab": {}
      },
      "cell_type": "code",
      "source": [
        "import numpy as np\n",
        "import math\n",
        "import matplotlib.pyplot as plt\n",
        "import pandas as pd\n",
        "from keras.models import Sequential\n",
        "from keras.layers import Dense\n",
        "from keras.layers import LSTM\n",
        "from keras.layers import Activation\n",
        "from sklearn.preprocessing import MinMaxScaler\n",
        "from sklearn.metrics import mean_squared_error"
      ],
      "execution_count": 0,
      "outputs": []
    },
    {
      "metadata": {
        "id": "rJmnetJ2HjrY",
        "colab_type": "code",
        "colab": {
          "base_uri": "https://localhost:8080/",
          "height": 2520
        },
        "outputId": "ac70df24-6c34-4583-9810-0b85b69d4037"
      },
      "cell_type": "code",
      "source": [
        "# Install the PyDrive wrapper & import libraries.\n",
        "# This only needs to be done once per notebook.\n",
        "!pip install -U -q PyDrive\n",
        "from pydrive.auth import GoogleAuth\n",
        "from pydrive.drive import GoogleDrive\n",
        "from google.colab import auth\n",
        "from oauth2client.client import GoogleCredentials\n",
        "\n",
        "# Authenticate and create the PyDrive client.\n",
        "# This only needs to be done once per notebook.\n",
        "auth.authenticate_user()\n",
        "gauth = GoogleAuth()\n",
        "gauth.credentials = GoogleCredentials.get_application_default()\n",
        "drive = GoogleDrive(gauth)\n",
        "\n",
        "# Download a file based on its file ID.\n",
        "#\n",
        "# A file ID looks like: laggVyWshwcyP6kEI-y_W3P8D26sz\n",
        "file_id = '19FGwyfzkyfV_WqmEWPLsgGmOpQ7IJLq-'\n",
        "downloaded = drive.CreateFile({'id': file_id})\n",
        "downloaded.GetContentFile('passengers.csv') \n",
        "print('Downloaded content \"{}\"'.format(downloaded.GetContentString()))"
      ],
      "execution_count": 11,
      "outputs": [
        {
          "output_type": "stream",
          "text": [
            "Downloaded content \"\"Month\",\"International airline passengers: monthly totals in thousands. Jan 49 ? Dec 60\"\r\n",
            "\"1949-01\",112\r\n",
            "\"1949-02\",118\r\n",
            "\"1949-03\",132\r\n",
            "\"1949-04\",129\r\n",
            "\"1949-05\",121\r\n",
            "\"1949-06\",135\r\n",
            "\"1949-07\",148\r\n",
            "\"1949-08\",148\r\n",
            "\"1949-09\",136\r\n",
            "\"1949-10\",119\r\n",
            "\"1949-11\",104\r\n",
            "\"1949-12\",118\r\n",
            "\"1950-01\",115\r\n",
            "\"1950-02\",126\r\n",
            "\"1950-03\",141\r\n",
            "\"1950-04\",135\r\n",
            "\"1950-05\",125\r\n",
            "\"1950-06\",149\r\n",
            "\"1950-07\",170\r\n",
            "\"1950-08\",170\r\n",
            "\"1950-09\",158\r\n",
            "\"1950-10\",133\r\n",
            "\"1950-11\",114\r\n",
            "\"1950-12\",140\r\n",
            "\"1951-01\",145\r\n",
            "\"1951-02\",150\r\n",
            "\"1951-03\",178\r\n",
            "\"1951-04\",163\r\n",
            "\"1951-05\",172\r\n",
            "\"1951-06\",178\r\n",
            "\"1951-07\",199\r\n",
            "\"1951-08\",199\r\n",
            "\"1951-09\",184\r\n",
            "\"1951-10\",162\r\n",
            "\"1951-11\",146\r\n",
            "\"1951-12\",166\r\n",
            "\"1952-01\",171\r\n",
            "\"1952-02\",180\r\n",
            "\"1952-03\",193\r\n",
            "\"1952-04\",181\r\n",
            "\"1952-05\",183\r\n",
            "\"1952-06\",218\r\n",
            "\"1952-07\",230\r\n",
            "\"1952-08\",242\r\n",
            "\"1952-09\",209\r\n",
            "\"1952-10\",191\r\n",
            "\"1952-11\",172\r\n",
            "\"1952-12\",194\r\n",
            "\"1953-01\",196\r\n",
            "\"1953-02\",196\r\n",
            "\"1953-03\",236\r\n",
            "\"1953-04\",235\r\n",
            "\"1953-05\",229\r\n",
            "\"1953-06\",243\r\n",
            "\"1953-07\",264\r\n",
            "\"1953-08\",272\r\n",
            "\"1953-09\",237\r\n",
            "\"1953-10\",211\r\n",
            "\"1953-11\",180\r\n",
            "\"1953-12\",201\r\n",
            "\"1954-01\",204\r\n",
            "\"1954-02\",188\r\n",
            "\"1954-03\",235\r\n",
            "\"1954-04\",227\r\n",
            "\"1954-05\",234\r\n",
            "\"1954-06\",264\r\n",
            "\"1954-07\",302\r\n",
            "\"1954-08\",293\r\n",
            "\"1954-09\",259\r\n",
            "\"1954-10\",229\r\n",
            "\"1954-11\",203\r\n",
            "\"1954-12\",229\r\n",
            "\"1955-01\",242\r\n",
            "\"1955-02\",233\r\n",
            "\"1955-03\",267\r\n",
            "\"1955-04\",269\r\n",
            "\"1955-05\",270\r\n",
            "\"1955-06\",315\r\n",
            "\"1955-07\",364\r\n",
            "\"1955-08\",347\r\n",
            "\"1955-09\",312\r\n",
            "\"1955-10\",274\r\n",
            "\"1955-11\",237\r\n",
            "\"1955-12\",278\r\n",
            "\"1956-01\",284\r\n",
            "\"1956-02\",277\r\n",
            "\"1956-03\",317\r\n",
            "\"1956-04\",313\r\n",
            "\"1956-05\",318\r\n",
            "\"1956-06\",374\r\n",
            "\"1956-07\",413\r\n",
            "\"1956-08\",405\r\n",
            "\"1956-09\",355\r\n",
            "\"1956-10\",306\r\n",
            "\"1956-11\",271\r\n",
            "\"1956-12\",306\r\n",
            "\"1957-01\",315\r\n",
            "\"1957-02\",301\r\n",
            "\"1957-03\",356\r\n",
            "\"1957-04\",348\r\n",
            "\"1957-05\",355\r\n",
            "\"1957-06\",422\r\n",
            "\"1957-07\",465\r\n",
            "\"1957-08\",467\r\n",
            "\"1957-09\",404\r\n",
            "\"1957-10\",347\r\n",
            "\"1957-11\",305\r\n",
            "\"1957-12\",336\r\n",
            "\"1958-01\",340\r\n",
            "\"1958-02\",318\r\n",
            "\"1958-03\",362\r\n",
            "\"1958-04\",348\r\n",
            "\"1958-05\",363\r\n",
            "\"1958-06\",435\r\n",
            "\"1958-07\",491\r\n",
            "\"1958-08\",505\r\n",
            "\"1958-09\",404\r\n",
            "\"1958-10\",359\r\n",
            "\"1958-11\",310\r\n",
            "\"1958-12\",337\r\n",
            "\"1959-01\",360\r\n",
            "\"1959-02\",342\r\n",
            "\"1959-03\",406\r\n",
            "\"1959-04\",396\r\n",
            "\"1959-05\",420\r\n",
            "\"1959-06\",472\r\n",
            "\"1959-07\",548\r\n",
            "\"1959-08\",559\r\n",
            "\"1959-09\",463\r\n",
            "\"1959-10\",407\r\n",
            "\"1959-11\",362\r\n",
            "\"1959-12\",405\r\n",
            "\"1960-01\",417\r\n",
            "\"1960-02\",391\r\n",
            "\"1960-03\",419\r\n",
            "\"1960-04\",461\r\n",
            "\"1960-05\",472\r\n",
            "\"1960-06\",535\r\n",
            "\"1960-07\",622\r\n",
            "\"1960-08\",606\r\n",
            "\"1960-09\",508\r\n",
            "\"1960-10\",461\r\n",
            "\"1960-11\",390\r\n",
            "\"1960-12\",432\r\n",
            "\r\n",
            "International airline passengers: monthly totals in thousands. Jan 49 ? Dec 60\r\n",
            "\r\n",
            "\"\n"
          ],
          "name": "stdout"
        }
      ]
    },
    {
      "metadata": {
        "id": "d2XmpP5GBgUN",
        "colab_type": "code",
        "colab": {}
      },
      "cell_type": "code",
      "source": [
        "def create_dataset(dataset, look_back=1):\n",
        "\tdataX, dataY = [], []\n",
        "\tfor i in range(len(dataset)-look_back-1):\n",
        "\t\ta = dataset[i:(i+look_back), 0]\n",
        "\t\tdataX.append(a)\n",
        "\t\tdataY.append(dataset[i + look_back, 0])\n",
        "\treturn numpy.array(dataX), numpy.array(dataY)"
      ],
      "execution_count": 0,
      "outputs": []
    },
    {
      "metadata": {
        "id": "sYwMXD5NBqAu",
        "colab_type": "code",
        "colab": {}
      },
      "cell_type": "code",
      "source": [
        "numpy.random.seed(7)"
      ],
      "execution_count": 0,
      "outputs": []
    },
    {
      "metadata": {
        "id": "jQvk8mW3HILq",
        "colab_type": "code",
        "colab": {}
      },
      "cell_type": "code",
      "source": [
        "dataframe = pd.read_csv('passengers.csv', usecols=[1], engine='python', skipfooter=3)\n",
        "dataset = dataframe.values\n",
        "dataset = dataset.astype('float32')"
      ],
      "execution_count": 0,
      "outputs": []
    },
    {
      "metadata": {
        "id": "LNjWHFVzJvQ2",
        "colab_type": "code",
        "colab": {}
      },
      "cell_type": "code",
      "source": [
        "scaler = MinMaxScaler(feature_range=(0, 1))\n",
        "dataset = scaler.fit_transform(dataset)"
      ],
      "execution_count": 0,
      "outputs": []
    },
    {
      "metadata": {
        "id": "5J4mOlZ4J5Wn",
        "colab_type": "code",
        "colab": {}
      },
      "cell_type": "code",
      "source": [
        "train_size = int(len(dataset) * 0.67)\n",
        "test_size = len(dataset) - train_size\n",
        "train, test = dataset[0:train_size,:], dataset[train_size:len(dataset),:]"
      ],
      "execution_count": 0,
      "outputs": []
    },
    {
      "metadata": {
        "id": "Xh40Qg0zKAHw",
        "colab_type": "code",
        "colab": {}
      },
      "cell_type": "code",
      "source": [
        "look_back = 1\n",
        "trainX, trainY = create_dataset(train, look_back)\n",
        "testX, testY = create_dataset(test, look_back)"
      ],
      "execution_count": 0,
      "outputs": []
    },
    {
      "metadata": {
        "id": "1BBraxcgKLJ3",
        "colab_type": "code",
        "colab": {}
      },
      "cell_type": "code",
      "source": [
        "trainX = numpy.reshape(trainX, (trainX.shape[0], 1, trainX.shape[1]))\n",
        "testX = numpy.reshape(testX, (testX.shape[0], 1, testX.shape[1]))"
      ],
      "execution_count": 0,
      "outputs": []
    },
    {
      "metadata": {
        "id": "O4KQxS3HKRZm",
        "colab_type": "code",
        "colab": {
          "base_uri": "https://localhost:8080/",
          "height": 3498
        },
        "outputId": "6572f9a1-46cd-432f-a09c-3040aaf3418a"
      },
      "cell_type": "code",
      "source": [
        "model = Sequential()\n",
        "model.add(LSTM(100, input_dim = look_back))\n",
        "model.add(Dense(1))\n",
        "model.add(Activation(\"linear\"))\n",
        "\n",
        "model.compile(loss='mse', optimizer='rmsprop')\n",
        "model.fit(trainX, trainY, epochs=100, batch_size=32,  validation_data=(testX, testY), verbose=1)"
      ],
      "execution_count": 20,
      "outputs": [
        {
          "output_type": "stream",
          "text": [
            "/usr/local/lib/python3.6/dist-packages/ipykernel_launcher.py:2: UserWarning: The `input_dim` and `input_length` arguments in recurrent layers are deprecated. Use `input_shape` instead.\n",
            "  \n",
            "/usr/local/lib/python3.6/dist-packages/ipykernel_launcher.py:2: UserWarning: Update your `LSTM` call to the Keras 2 API: `LSTM(100, input_shape=(None, 1))`\n",
            "  \n"
          ],
          "name": "stderr"
        },
        {
          "output_type": "stream",
          "text": [
            "Train on 94 samples, validate on 46 samples\n",
            "Epoch 1/100\n",
            "94/94 [==============================] - 1s 12ms/step - loss: 0.0598 - val_loss: 0.3380\n",
            "Epoch 2/100\n",
            "94/94 [==============================] - 0s 315us/step - loss: 0.0479 - val_loss: 0.3040\n",
            "Epoch 3/100\n",
            "94/94 [==============================] - 0s 306us/step - loss: 0.0404 - val_loss: 0.2768\n",
            "Epoch 4/100\n",
            "94/94 [==============================] - 0s 274us/step - loss: 0.0346 - val_loss: 0.2535\n",
            "Epoch 5/100\n",
            "94/94 [==============================] - 0s 334us/step - loss: 0.0298 - val_loss: 0.2321\n",
            "Epoch 6/100\n",
            "94/94 [==============================] - 0s 284us/step - loss: 0.0259 - val_loss: 0.2126\n",
            "Epoch 7/100\n",
            "94/94 [==============================] - 0s 288us/step - loss: 0.0226 - val_loss: 0.1951\n",
            "Epoch 8/100\n",
            "94/94 [==============================] - 0s 323us/step - loss: 0.0199 - val_loss: 0.1787\n",
            "Epoch 9/100\n",
            "94/94 [==============================] - 0s 287us/step - loss: 0.0177 - val_loss: 0.1641\n",
            "Epoch 10/100\n",
            "94/94 [==============================] - 0s 308us/step - loss: 0.0160 - val_loss: 0.1506\n",
            "Epoch 11/100\n",
            "94/94 [==============================] - 0s 280us/step - loss: 0.0147 - val_loss: 0.1386\n",
            "Epoch 12/100\n",
            "94/94 [==============================] - 0s 277us/step - loss: 0.0138 - val_loss: 0.1300\n",
            "Epoch 13/100\n",
            "94/94 [==============================] - 0s 279us/step - loss: 0.0132 - val_loss: 0.1224\n",
            "Epoch 14/100\n",
            "94/94 [==============================] - 0s 263us/step - loss: 0.0127 - val_loss: 0.1155\n",
            "Epoch 15/100\n",
            "94/94 [==============================] - 0s 316us/step - loss: 0.0123 - val_loss: 0.1096\n",
            "Epoch 16/100\n",
            "94/94 [==============================] - 0s 314us/step - loss: 0.0119 - val_loss: 0.1040\n",
            "Epoch 17/100\n",
            "94/94 [==============================] - 0s 255us/step - loss: 0.0116 - val_loss: 0.0998\n",
            "Epoch 18/100\n",
            "94/94 [==============================] - 0s 339us/step - loss: 0.0113 - val_loss: 0.0962\n",
            "Epoch 19/100\n",
            "94/94 [==============================] - 0s 259us/step - loss: 0.0110 - val_loss: 0.0933\n",
            "Epoch 20/100\n",
            "94/94 [==============================] - 0s 289us/step - loss: 0.0107 - val_loss: 0.0902\n",
            "Epoch 21/100\n",
            "94/94 [==============================] - 0s 284us/step - loss: 0.0103 - val_loss: 0.0869\n",
            "Epoch 22/100\n",
            "94/94 [==============================] - 0s 311us/step - loss: 0.0099 - val_loss: 0.0833\n",
            "Epoch 23/100\n",
            "94/94 [==============================] - 0s 304us/step - loss: 0.0096 - val_loss: 0.0810\n",
            "Epoch 24/100\n",
            "94/94 [==============================] - 0s 256us/step - loss: 0.0093 - val_loss: 0.0772\n",
            "Epoch 25/100\n",
            "94/94 [==============================] - 0s 380us/step - loss: 0.0088 - val_loss: 0.0735\n",
            "Epoch 26/100\n",
            "94/94 [==============================] - 0s 249us/step - loss: 0.0084 - val_loss: 0.0672\n",
            "Epoch 27/100\n",
            "94/94 [==============================] - 0s 258us/step - loss: 0.0081 - val_loss: 0.0638\n",
            "Epoch 28/100\n",
            "94/94 [==============================] - 0s 245us/step - loss: 0.0077 - val_loss: 0.0606\n",
            "Epoch 29/100\n",
            "94/94 [==============================] - 0s 283us/step - loss: 0.0074 - val_loss: 0.0606\n",
            "Epoch 30/100\n",
            "94/94 [==============================] - 0s 317us/step - loss: 0.0070 - val_loss: 0.0567\n",
            "Epoch 31/100\n",
            "94/94 [==============================] - 0s 274us/step - loss: 0.0067 - val_loss: 0.0516\n",
            "Epoch 32/100\n",
            "94/94 [==============================] - 0s 294us/step - loss: 0.0063 - val_loss: 0.0464\n",
            "Epoch 33/100\n",
            "94/94 [==============================] - 0s 259us/step - loss: 0.0060 - val_loss: 0.0466\n",
            "Epoch 34/100\n",
            "94/94 [==============================] - 0s 323us/step - loss: 0.0057 - val_loss: 0.0439\n",
            "Epoch 35/100\n",
            "94/94 [==============================] - 0s 326us/step - loss: 0.0054 - val_loss: 0.0415\n",
            "Epoch 36/100\n",
            "94/94 [==============================] - 0s 299us/step - loss: 0.0051 - val_loss: 0.0362\n",
            "Epoch 37/100\n",
            "94/94 [==============================] - 0s 280us/step - loss: 0.0048 - val_loss: 0.0347\n",
            "Epoch 38/100\n",
            "94/94 [==============================] - 0s 281us/step - loss: 0.0045 - val_loss: 0.0302\n",
            "Epoch 39/100\n",
            "94/94 [==============================] - 0s 276us/step - loss: 0.0043 - val_loss: 0.0279\n",
            "Epoch 40/100\n",
            "94/94 [==============================] - 0s 279us/step - loss: 0.0040 - val_loss: 0.0283\n",
            "Epoch 41/100\n",
            "94/94 [==============================] - 0s 286us/step - loss: 0.0038 - val_loss: 0.0258\n",
            "Epoch 42/100\n",
            "94/94 [==============================] - 0s 286us/step - loss: 0.0035 - val_loss: 0.0233\n",
            "Epoch 43/100\n",
            "94/94 [==============================] - 0s 277us/step - loss: 0.0034 - val_loss: 0.0190\n",
            "Epoch 44/100\n",
            "94/94 [==============================] - 0s 318us/step - loss: 0.0032 - val_loss: 0.0188\n",
            "Epoch 45/100\n",
            "94/94 [==============================] - 0s 289us/step - loss: 0.0030 - val_loss: 0.0166\n",
            "Epoch 46/100\n",
            "94/94 [==============================] - 0s 272us/step - loss: 0.0028 - val_loss: 0.0181\n",
            "Epoch 47/100\n",
            "94/94 [==============================] - 0s 265us/step - loss: 0.0027 - val_loss: 0.0147\n",
            "Epoch 48/100\n",
            "94/94 [==============================] - 0s 314us/step - loss: 0.0025 - val_loss: 0.0131\n",
            "Epoch 49/100\n",
            "94/94 [==============================] - 0s 355us/step - loss: 0.0025 - val_loss: 0.0110\n",
            "Epoch 50/100\n",
            "94/94 [==============================] - 0s 283us/step - loss: 0.0024 - val_loss: 0.0113\n",
            "Epoch 51/100\n",
            "94/94 [==============================] - 0s 278us/step - loss: 0.0023 - val_loss: 0.0127\n",
            "Epoch 52/100\n",
            "94/94 [==============================] - 0s 287us/step - loss: 0.0022 - val_loss: 0.0115\n",
            "Epoch 53/100\n",
            "94/94 [==============================] - 0s 305us/step - loss: 0.0022 - val_loss: 0.0107\n",
            "Epoch 54/100\n",
            "94/94 [==============================] - 0s 306us/step - loss: 0.0022 - val_loss: 0.0092\n",
            "Epoch 55/100\n",
            "94/94 [==============================] - 0s 281us/step - loss: 0.0021 - val_loss: 0.0094\n",
            "Epoch 56/100\n",
            "94/94 [==============================] - 0s 266us/step - loss: 0.0020 - val_loss: 0.0098\n",
            "Epoch 57/100\n",
            "94/94 [==============================] - 0s 261us/step - loss: 0.0020 - val_loss: 0.0101\n",
            "Epoch 58/100\n",
            "94/94 [==============================] - 0s 345us/step - loss: 0.0022 - val_loss: 0.0090\n",
            "Epoch 59/100\n",
            "94/94 [==============================] - 0s 293us/step - loss: 0.0020 - val_loss: 0.0094\n",
            "Epoch 60/100\n",
            "94/94 [==============================] - 0s 263us/step - loss: 0.0020 - val_loss: 0.0092\n",
            "Epoch 61/100\n",
            "94/94 [==============================] - 0s 279us/step - loss: 0.0021 - val_loss: 0.0096\n",
            "Epoch 62/100\n",
            "94/94 [==============================] - 0s 359us/step - loss: 0.0020 - val_loss: 0.0091\n",
            "Epoch 63/100\n",
            "94/94 [==============================] - 0s 284us/step - loss: 0.0020 - val_loss: 0.0094\n",
            "Epoch 64/100\n",
            "94/94 [==============================] - 0s 280us/step - loss: 0.0020 - val_loss: 0.0095\n",
            "Epoch 65/100\n",
            "94/94 [==============================] - 0s 267us/step - loss: 0.0020 - val_loss: 0.0090\n",
            "Epoch 66/100\n",
            "94/94 [==============================] - 0s 325us/step - loss: 0.0023 - val_loss: 0.0093\n",
            "Epoch 67/100\n",
            "94/94 [==============================] - 0s 270us/step - loss: 0.0020 - val_loss: 0.0091\n",
            "Epoch 68/100\n",
            "94/94 [==============================] - 0s 270us/step - loss: 0.0020 - val_loss: 0.0095\n",
            "Epoch 69/100\n",
            "94/94 [==============================] - 0s 247us/step - loss: 0.0020 - val_loss: 0.0090\n",
            "Epoch 70/100\n",
            "94/94 [==============================] - 0s 277us/step - loss: 0.0020 - val_loss: 0.0091\n",
            "Epoch 71/100\n",
            "94/94 [==============================] - 0s 282us/step - loss: 0.0020 - val_loss: 0.0089\n",
            "Epoch 72/100\n",
            "94/94 [==============================] - 0s 267us/step - loss: 0.0021 - val_loss: 0.0089\n",
            "Epoch 73/100\n",
            "94/94 [==============================] - 0s 309us/step - loss: 0.0020 - val_loss: 0.0095\n",
            "Epoch 74/100\n",
            "94/94 [==============================] - 0s 220us/step - loss: 0.0020 - val_loss: 0.0091\n",
            "Epoch 75/100\n",
            "94/94 [==============================] - 0s 214us/step - loss: 0.0020 - val_loss: 0.0091\n",
            "Epoch 76/100\n",
            "94/94 [==============================] - 0s 260us/step - loss: 0.0020 - val_loss: 0.0091\n",
            "Epoch 77/100\n",
            "94/94 [==============================] - 0s 238us/step - loss: 0.0020 - val_loss: 0.0096\n",
            "Epoch 78/100\n",
            "94/94 [==============================] - 0s 267us/step - loss: 0.0020 - val_loss: 0.0089\n",
            "Epoch 79/100\n",
            "94/94 [==============================] - 0s 290us/step - loss: 0.0020 - val_loss: 0.0090\n",
            "Epoch 80/100\n",
            "94/94 [==============================] - 0s 274us/step - loss: 0.0020 - val_loss: 0.0090\n",
            "Epoch 81/100\n",
            "94/94 [==============================] - 0s 249us/step - loss: 0.0021 - val_loss: 0.0093\n",
            "Epoch 82/100\n",
            "94/94 [==============================] - 0s 254us/step - loss: 0.0020 - val_loss: 0.0092\n",
            "Epoch 83/100\n",
            "94/94 [==============================] - 0s 222us/step - loss: 0.0020 - val_loss: 0.0091\n",
            "Epoch 84/100\n",
            "94/94 [==============================] - 0s 290us/step - loss: 0.0020 - val_loss: 0.0095\n",
            "Epoch 85/100\n",
            "94/94 [==============================] - 0s 235us/step - loss: 0.0020 - val_loss: 0.0090\n",
            "Epoch 86/100\n",
            "94/94 [==============================] - 0s 250us/step - loss: 0.0020 - val_loss: 0.0089\n",
            "Epoch 87/100\n",
            "94/94 [==============================] - 0s 294us/step - loss: 0.0020 - val_loss: 0.0090\n",
            "Epoch 88/100\n",
            "94/94 [==============================] - 0s 243us/step - loss: 0.0019 - val_loss: 0.0090\n",
            "Epoch 89/100\n",
            "94/94 [==============================] - 0s 261us/step - loss: 0.0020 - val_loss: 0.0089\n",
            "Epoch 90/100\n",
            "94/94 [==============================] - 0s 230us/step - loss: 0.0020 - val_loss: 0.0093\n",
            "Epoch 91/100\n",
            "94/94 [==============================] - 0s 234us/step - loss: 0.0020 - val_loss: 0.0094\n",
            "Epoch 92/100\n",
            "94/94 [==============================] - 0s 258us/step - loss: 0.0022 - val_loss: 0.0090\n",
            "Epoch 93/100\n",
            "94/94 [==============================] - 0s 315us/step - loss: 0.0020 - val_loss: 0.0092\n",
            "Epoch 94/100\n",
            "94/94 [==============================] - 0s 297us/step - loss: 0.0022 - val_loss: 0.0093\n",
            "Epoch 95/100\n",
            "94/94 [==============================] - 0s 223us/step - loss: 0.0020 - val_loss: 0.0090\n",
            "Epoch 96/100\n",
            "94/94 [==============================] - 0s 273us/step - loss: 0.0020 - val_loss: 0.0090\n",
            "Epoch 97/100\n",
            "94/94 [==============================] - 0s 253us/step - loss: 0.0020 - val_loss: 0.0089\n",
            "Epoch 98/100\n",
            "94/94 [==============================] - 0s 244us/step - loss: 0.0020 - val_loss: 0.0089\n",
            "Epoch 99/100\n",
            "94/94 [==============================] - 0s 227us/step - loss: 0.0020 - val_loss: 0.0092\n",
            "Epoch 100/100\n",
            "94/94 [==============================] - 0s 230us/step - loss: 0.0019 - val_loss: 0.0090\n"
          ],
          "name": "stdout"
        },
        {
          "output_type": "execute_result",
          "data": {
            "text/plain": [
              "<keras.callbacks.History at 0x7f81e9b1b208>"
            ]
          },
          "metadata": {
            "tags": []
          },
          "execution_count": 20
        }
      ]
    },
    {
      "metadata": {
        "id": "f_nJGjcUKb21",
        "colab_type": "code",
        "colab": {}
      },
      "cell_type": "code",
      "source": [
        "trainPredict = model.predict(trainX)\n",
        "testPredict = model.predict(testX)"
      ],
      "execution_count": 0,
      "outputs": []
    },
    {
      "metadata": {
        "id": "DJClaMt5Kl8D",
        "colab_type": "code",
        "colab": {}
      },
      "cell_type": "code",
      "source": [
        "trainPredict = scaler.inverse_transform(trainPredict)\n",
        "trainY = scaler.inverse_transform([trainY])\n",
        "testPredict = scaler.inverse_transform(testPredict)\n",
        "testY = scaler.inverse_transform([testY])"
      ],
      "execution_count": 0,
      "outputs": []
    },
    {
      "metadata": {
        "id": "srj1OWPLKryj",
        "colab_type": "code",
        "colab": {
          "base_uri": "https://localhost:8080/",
          "height": 50
        },
        "outputId": "1e077cf6-bb12-4aa2-fbc3-b81d6f6a0426"
      },
      "cell_type": "code",
      "source": [
        "trainScore = math.sqrt(mean_squared_error(trainY[0], trainPredict[:,0]))\n",
        "print('Train Score: %.2f RMSE' % (trainScore))\n",
        "testScore = math.sqrt(mean_squared_error(testY[0], testPredict[:,0]))\n",
        "print('Test Score: %.2f RMSE' % (testScore))"
      ],
      "execution_count": 23,
      "outputs": [
        {
          "output_type": "stream",
          "text": [
            "Train Score: 22.84 RMSE\n",
            "Test Score: 49.14 RMSE\n"
          ],
          "name": "stdout"
        }
      ]
    },
    {
      "metadata": {
        "id": "fibEkULXK25T",
        "colab_type": "code",
        "colab": {}
      },
      "cell_type": "code",
      "source": [
        "trainPredictPlot = numpy.empty_like(dataset)\n",
        "trainPredictPlot[:, :] = numpy.nan\n",
        "trainPredictPlot[look_back:len(trainPredict)+look_back, :] = trainPredict"
      ],
      "execution_count": 0,
      "outputs": []
    },
    {
      "metadata": {
        "id": "EJj1UWVsK9ws",
        "colab_type": "code",
        "colab": {}
      },
      "cell_type": "code",
      "source": [
        "testPredictPlot = numpy.empty_like(dataset)\n",
        "testPredictPlot[:, :] = numpy.nan\n",
        "testPredictPlot[len(trainPredict)+(look_back*2)+1:len(dataset)-1, :] = testPredict"
      ],
      "execution_count": 0,
      "outputs": []
    },
    {
      "metadata": {
        "id": "_vgz3yoTLDl-",
        "colab_type": "code",
        "colab": {
          "base_uri": "https://localhost:8080/",
          "height": 347
        },
        "outputId": "2c1fcc5a-a158-43f4-e65d-0c0d836a905d"
      },
      "cell_type": "code",
      "source": [
        "plt.plot(scaler.inverse_transform(dataset))\n",
        "plt.plot(trainPredictPlot)\n",
        "plt.plot(testPredictPlot)\n",
        "plt.show()"
      ],
      "execution_count": 26,
      "outputs": [
        {
          "output_type": "display_data",
          "data": {
            "image/png": "[encoded data removed]",
            "text/plain": [
              "<matplotlib.figure.Figure at 0x7f81e9a62f28>"
            ]
          },
          "metadata": {
            "tags": []
          }
        }
      ]
    }
  ]
}